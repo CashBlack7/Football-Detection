{
 "cells": [
  {
   "cell_type": "markdown",
   "metadata": {},
   "source": [
    "# 1. Import Dependencies"
   ]
  },
  {
   "cell_type": "code",
   "execution_count": 1,
   "metadata": {},
   "outputs": [],
   "source": [
    "# Import opencv\n",
    "import cv2 \n",
    "\n",
    "# Import uuid  - to name images uniquely\n",
    "import uuid\n",
    "\n",
    "# Import Operating System\n",
    "import os\n",
    "\n",
    "# Import time\n",
    "import time"
   ]
  },
  {
   "cell_type": "markdown",
   "metadata": {},
   "source": [
    "# 2. Define Images to Collect"
   ]
  },
  {
   "cell_type": "code",
   "execution_count": 4,
   "metadata": {},
   "outputs": [],
   "source": [
    "labels = ['Football']\n",
    "number_imgs = 5"
   ]
  },
  {
   "cell_type": "markdown",
   "metadata": {},
   "source": [
    "# 3. Setup Folders "
   ]
  },
  {
   "cell_type": "code",
   "execution_count": 2,
   "metadata": {},
   "outputs": [],
   "source": [
    "IMAGES_PATH = os.path.join('Tensorflow', 'workspace', 'images', 'collectedimages')"
   ]
  },
  {
   "cell_type": "code",
   "execution_count": 5,
   "metadata": {},
   "outputs": [],
   "source": [
    "if not os.path.exists(IMAGES_PATH):\n",
    "    if os.name == 'posix':\n",
    "        !mkdir -p {IMAGES_PATH}\n",
    "    if os.name == 'nt': #windows\n",
    "         !mkdir {IMAGES_PATH}\n",
    "for label in labels:\n",
    "    path = os.path.join(IMAGES_PATH, label)\n",
    "    if not os.path.exists(path):\n",
    "        !mkdir {path}"
   ]
  },
  {
   "cell_type": "markdown",
   "metadata": {},
   "source": [
    "# 4. Capture Images"
   ]
  },
  {
   "cell_type": "code",
   "execution_count": 11,
   "metadata": {},
   "outputs": [
    {
     "name": "stdout",
     "output_type": "stream",
     "text": [
      "Unable to read frames!\n",
      "1490\n"
     ]
    }
   ],
   "source": [
    "for label in labels:\n",
    "    cap = cv2.VideoCapture('D:\\Research\\Football Detection Trial\\PSG v Reims.mp4')\n",
    "    \n",
    "    knt = 0\n",
    "    while cap.isOpened():\n",
    "        ret, frame = cap.read()\n",
    "        \n",
    "        if not ret:\n",
    "            print('Unable to read frames!')\n",
    "            break\n",
    "        \n",
    "        img_gray = cv2.cvtColor(frame, cv2.COLOR_BGR2GRAY) \n",
    "        if knt%3 == 0:\n",
    "            cv2.imwrite(f\"D:/Research/Football Detection Trial/Tensorflow/workspace/images/collectedimages/Football/{knt}.png\", img_gray)\n",
    "        knt = knt+1\n",
    "        \n",
    "        cv2.imshow('Frames' , img_gray)\n",
    "        \n",
    "        if cv2.waitKey(1) == ord('q'):\n",
    "            break\n",
    "            \n",
    "    print(knt)\n",
    "    cap.release()\n",
    "    cv2.destroyAllWindows()\n",
    "    \n",
    "#     print('Collecting images for {}'.format(label))\n",
    "#     time.sleep(5)\n",
    "#     for imgnum in range(number_imgs):\n",
    "#         print('Collecting image {}'.format(imgnum))\n",
    "#         ret, frame = cap.read()\n",
    "#         imgname = os.path.join(IMAGES_PATH,label,label+'.'+'{}.jpg'.format(str(uuid.uuid1())))\n",
    "#         cv2.imwrite(imgname, frame)\n",
    "#         cv2.imshow('frame', frame)\n",
    "#         time.sleep(2)\n",
    "\n",
    "#         if cv2.waitKey(1) & 0xFF == ord('q'):\n",
    "#             break\n",
    "# cap.release()\n",
    "# cv2.destroyAllWindows()"
   ]
  },
  {
   "cell_type": "markdown",
   "metadata": {},
   "source": [
    "# 5. Image Labelling"
   ]
  },
  {
   "cell_type": "code",
   "execution_count": null,
   "metadata": {},
   "outputs": [],
   "source": [
    "!pip install --upgrade pyqt5 lxml"
   ]
  },
  {
   "cell_type": "code",
   "execution_count": 2,
   "metadata": {},
   "outputs": [],
   "source": [
    "LABELIMG_PATH = os.path.join('Tensorflow', 'labelimg')"
   ]
  },
  {
   "cell_type": "code",
   "execution_count": 3,
   "metadata": {},
   "outputs": [
    {
     "name": "stderr",
     "output_type": "stream",
     "text": [
      "Cloning into 'Tensorflow\\labelimg'...\n"
     ]
    }
   ],
   "source": [
    "if not os.path.exists(LABELIMG_PATH):\n",
    "    !mkdir {LABELIMG_PATH}\n",
    "    !git clone https://github.com/tzutalin/labelImg {LABELIMG_PATH}"
   ]
  },
  {
   "cell_type": "code",
   "execution_count": 4,
   "metadata": {},
   "outputs": [],
   "source": [
    "if os.name == 'posix':\n",
    "    !cd {LABELIMG_PATH} && !make qt5py3\n",
    "if os.name =='nt':\n",
    "    !cd {LABELIMG_PATH} && pyrcc5 -o libs/resources.py resources.qrc"
   ]
  },
  {
   "cell_type": "code",
   "execution_count": 5,
   "metadata": {},
   "outputs": [
    {
     "name": "stdout",
     "output_type": "stream",
     "text": [
      "Image:D:\\Research\\Football Detection Trial\\Tensorflow\\workspace\\images\\train\\3.png -> Annotation:D:/Research/Football Detection Trial/Tensorflow/workspace/images/train/3.xml\n",
      "Image:D:\\Research\\Football Detection Trial\\Tensorflow\\workspace\\images\\train\\9.png -> Annotation:D:/Research/Football Detection Trial/Tensorflow/workspace/images/train/9.xml\n",
      "Image:D:\\Research\\Football Detection Trial\\Tensorflow\\workspace\\images\\train\\51.png -> Annotation:D:/Research/Football Detection Trial/Tensorflow/workspace/images/train/51.xml\n",
      "Image:D:\\Research\\Football Detection Trial\\Tensorflow\\workspace\\images\\train\\93.png -> Annotation:D:/Research/Football Detection Trial/Tensorflow/workspace/images/train/93.xml\n",
      "Image:D:\\Research\\Football Detection Trial\\Tensorflow\\workspace\\images\\train\\120.png -> Annotation:D:/Research/Football Detection Trial/Tensorflow/workspace/images/train/120.xml\n",
      "Image:D:\\Research\\Football Detection Trial\\Tensorflow\\workspace\\images\\train\\162.png -> Annotation:D:/Research/Football Detection Trial/Tensorflow/workspace/images/train/162.xml\n",
      "Image:D:\\Research\\Football Detection Trial\\Tensorflow\\workspace\\images\\train\\174.png -> Annotation:D:/Research/Football Detection Trial/Tensorflow/workspace/images/train/174.xml\n",
      "Image:D:\\Research\\Football Detection Trial\\Tensorflow\\workspace\\images\\train\\183.png -> Annotation:D:/Research/Football Detection Trial/Tensorflow/workspace/images/train/183.xml\n",
      "Image:D:\\Research\\Football Detection Trial\\Tensorflow\\workspace\\images\\train\\189.png -> Annotation:D:/Research/Football Detection Trial/Tensorflow/workspace/images/train/189.xml\n",
      "Image:D:\\Research\\Football Detection Trial\\Tensorflow\\workspace\\images\\train\\198.png -> Annotation:D:/Research/Football Detection Trial/Tensorflow/workspace/images/train/198.xml\n",
      "Image:D:\\Research\\Football Detection Trial\\Tensorflow\\workspace\\images\\train\\210.png -> Annotation:D:/Research/Football Detection Trial/Tensorflow/workspace/images/train/210.xml\n",
      "Image:D:\\Research\\Football Detection Trial\\Tensorflow\\workspace\\images\\train\\231.png -> Annotation:D:/Research/Football Detection Trial/Tensorflow/workspace/images/train/231.xml\n",
      "Image:D:\\Research\\Football Detection Trial\\Tensorflow\\workspace\\images\\train\\243.png -> Annotation:D:/Research/Football Detection Trial/Tensorflow/workspace/images/train/243.xml\n",
      "Image:D:\\Research\\Football Detection Trial\\Tensorflow\\workspace\\images\\train\\255.png -> Annotation:D:/Research/Football Detection Trial/Tensorflow/workspace/images/train/255.xml\n",
      "Image:D:\\Research\\Football Detection Trial\\Tensorflow\\workspace\\images\\train\\258.png -> Annotation:D:/Research/Football Detection Trial/Tensorflow/workspace/images/train/258.xml\n",
      "Image:D:\\Research\\Football Detection Trial\\Tensorflow\\workspace\\images\\train\\309.png -> Annotation:D:/Research/Football Detection Trial/Tensorflow/workspace/images/train/309.xml\n",
      "Image:D:\\Research\\Football Detection Trial\\Tensorflow\\workspace\\images\\train\\384.png -> Annotation:D:/Research/Football Detection Trial/Tensorflow/workspace/images/train/384.xml\n",
      "Image:D:\\Research\\Football Detection Trial\\Tensorflow\\workspace\\images\\train\\429.png -> Annotation:D:/Research/Football Detection Trial/Tensorflow/workspace/images/train/429.xml\n",
      "Image:D:\\Research\\Football Detection Trial\\Tensorflow\\workspace\\images\\train\\468.png -> Annotation:D:/Research/Football Detection Trial/Tensorflow/workspace/images/train/468.xml\n",
      "Image:D:\\Research\\Football Detection Trial\\Tensorflow\\workspace\\images\\train\\492.png -> Annotation:D:/Research/Football Detection Trial/Tensorflow/workspace/images/train/492.xml\n",
      "Image:D:\\Research\\Football Detection Trial\\Tensorflow\\workspace\\images\\train\\510.png -> Annotation:D:/Research/Football Detection Trial/Tensorflow/workspace/images/train/510.xml\n",
      "Image:D:\\Research\\Football Detection Trial\\Tensorflow\\workspace\\images\\train\\540.png -> Annotation:D:/Research/Football Detection Trial/Tensorflow/workspace/images/train/540.xml\n",
      "Image:D:\\Research\\Football Detection Trial\\Tensorflow\\workspace\\images\\train\\555.png -> Annotation:D:/Research/Football Detection Trial/Tensorflow/workspace/images/train/555.xml\n",
      "Image:D:\\Research\\Football Detection Trial\\Tensorflow\\workspace\\images\\train\\564.png -> Annotation:D:/Research/Football Detection Trial/Tensorflow/workspace/images/train/564.xml\n",
      "Cancel creation.\n",
      "Image:D:\\Research\\Football Detection Trial\\Tensorflow\\workspace\\images\\train\\570.png -> Annotation:D:/Research/Football Detection Trial/Tensorflow/workspace/images/train/570.xml\n",
      "Image:D:\\Research\\Football Detection Trial\\Tensorflow\\workspace\\images\\train\\579.png -> Annotation:D:/Research/Football Detection Trial/Tensorflow/workspace/images/train/579.xml\n",
      "Image:D:\\Research\\Football Detection Trial\\Tensorflow\\workspace\\images\\train\\588.png -> Annotation:D:/Research/Football Detection Trial/Tensorflow/workspace/images/train/588.xml\n",
      "Image:D:\\Research\\Football Detection Trial\\Tensorflow\\workspace\\images\\train\\606.png -> Annotation:D:/Research/Football Detection Trial/Tensorflow/workspace/images/train/606.xml\n",
      "Image:D:\\Research\\Football Detection Trial\\Tensorflow\\workspace\\images\\train\\636.png -> Annotation:D:/Research/Football Detection Trial/Tensorflow/workspace/images/train/636.xml\n",
      "Image:D:\\Research\\Football Detection Trial\\Tensorflow\\workspace\\images\\train\\660.png -> Annotation:D:/Research/Football Detection Trial/Tensorflow/workspace/images/train/660.xml\n",
      "Image:D:\\Research\\Football Detection Trial\\Tensorflow\\workspace\\images\\train\\672.png -> Annotation:D:/Research/Football Detection Trial/Tensorflow/workspace/images/train/672.xml\n",
      "Image:D:\\Research\\Football Detection Trial\\Tensorflow\\workspace\\images\\train\\720.png -> Annotation:D:/Research/Football Detection Trial/Tensorflow/workspace/images/train/720.xml\n",
      "Image:D:\\Research\\Football Detection Trial\\Tensorflow\\workspace\\images\\train\\741.png -> Annotation:D:/Research/Football Detection Trial/Tensorflow/workspace/images/train/741.xml\n",
      "Image:D:\\Research\\Football Detection Trial\\Tensorflow\\workspace\\images\\train\\750.png -> Annotation:D:/Research/Football Detection Trial/Tensorflow/workspace/images/train/750.xml\n",
      "Image:D:\\Research\\Football Detection Trial\\Tensorflow\\workspace\\images\\train\\768.png -> Annotation:D:/Research/Football Detection Trial/Tensorflow/workspace/images/train/768.xml\n",
      "Image:D:\\Research\\Football Detection Trial\\Tensorflow\\workspace\\images\\train\\771.png -> Annotation:D:/Research/Football Detection Trial/Tensorflow/workspace/images/train/771.xml\n",
      "Image:D:\\Research\\Football Detection Trial\\Tensorflow\\workspace\\images\\train\\804.png -> Annotation:D:/Research/Football Detection Trial/Tensorflow/workspace/images/train/804.xml\n",
      "Image:D:\\Research\\Football Detection Trial\\Tensorflow\\workspace\\images\\train\\867.png -> Annotation:D:/Research/Football Detection Trial/Tensorflow/workspace/images/train/867.xml\n",
      "Image:D:\\Research\\Football Detection Trial\\Tensorflow\\workspace\\images\\train\\897.png -> Annotation:D:/Research/Football Detection Trial/Tensorflow/workspace/images/train/897.xml\n",
      "Image:D:\\Research\\Football Detection Trial\\Tensorflow\\workspace\\images\\train\\900.png -> Annotation:D:/Research/Football Detection Trial/Tensorflow/workspace/images/train/900.xml\n"
     ]
    },
    {
     "name": "stderr",
     "output_type": "stream",
     "text": [
      "D:\\Research\\Football Detection Trial\\Tensorflow\\labelimg\\labelImg.py:971: DeprecationWarning: an integer is required (got type float).  Implicit conversion to integers using __int__ is deprecated, and may be removed in a future version of Python.\n",
      "  self.zoom_widget.setValue(value)\n",
      "D:\\Research\\Football Detection Trial\\Tensorflow\\labelimg\\labelImg.py:1025: DeprecationWarning: an integer is required (got type float).  Implicit conversion to integers using __int__ is deprecated, and may be removed in a future version of Python.\n",
      "  h_bar.setValue(new_h_bar_value)\n",
      "D:\\Research\\Football Detection Trial\\Tensorflow\\labelimg\\labelImg.py:1026: DeprecationWarning: an integer is required (got type float).  Implicit conversion to integers using __int__ is deprecated, and may be removed in a future version of Python.\n",
      "  v_bar.setValue(new_v_bar_value)\n"
     ]
    }
   ],
   "source": [
    "!cd {LABELIMG_PATH} && python labelImg.py"
   ]
  },
  {
   "cell_type": "markdown",
   "metadata": {},
   "source": [
    "# 6. Move them into a Training and Testing Partition"
   ]
  },
  {
   "cell_type": "markdown",
   "metadata": {},
   "source": [
    "# OPTIONAL - 7. Compress them for Colab Training"
   ]
  },
  {
   "cell_type": "code",
   "execution_count": 6,
   "metadata": {},
   "outputs": [],
   "source": [
    "TRAIN_PATH = os.path.join('Tensorflow', 'workspace', 'images', 'train')\n",
    "TEST_PATH = os.path.join('Tensorflow', 'workspace', 'images', 'test')\n",
    "ARCHIVE_PATH = os.path.join('Tensorflow', 'workspace', 'images', 'archive.tar.gz')"
   ]
  },
  {
   "cell_type": "code",
   "execution_count": 7,
   "metadata": {},
   "outputs": [],
   "source": [
    "!tar -czf {ARCHIVE_PATH} {TRAIN_PATH} {TEST_PATH}"
   ]
  },
  {
   "cell_type": "code",
   "execution_count": null,
   "metadata": {},
   "outputs": [],
   "source": []
  }
 ],
 "metadata": {
  "kernelspec": {
   "display_name": "tfod2",
   "language": "python",
   "name": "tfod2"
  },
  "language_info": {
   "codemirror_mode": {
    "name": "ipython",
    "version": 3
   },
   "file_extension": ".py",
   "mimetype": "text/x-python",
   "name": "python",
   "nbconvert_exporter": "python",
   "pygments_lexer": "ipython3",
   "version": "3.9.7"
  }
 },
 "nbformat": 4,
 "nbformat_minor": 2
}
